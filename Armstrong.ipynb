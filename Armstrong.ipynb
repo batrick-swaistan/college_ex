{
 "cells": [
  {
   "cell_type": "code",
   "execution_count": 19,
   "id": "a93b7844",
   "metadata": {},
   "outputs": [
    {
     "name": "stdout",
     "output_type": "stream",
     "text": [
      "153\n",
      "True\n"
     ]
    }
   ],
   "source": [
    "def armstrong():\n",
    "    user_input=int(input())\n",
    "    s=len(str(user_input))\n",
    "\n",
    "    tot=0\n",
    "\n",
    "    temp=user_input\n",
    "    while temp!= 0:\n",
    "        b=temp % 10\n",
    "        tot+= b**s\n",
    "        temp=temp//10\n",
    "    if user_input == tot:\n",
    "        return True\n",
    "    else:\n",
    "        return True\n",
    "\n",
    "if __name__==\"__main__\":\n",
    "    print(armstrong())"
   ]
  },
  {
   "cell_type": "code",
   "execution_count": 15,
   "id": "9196286a",
   "metadata": {},
   "outputs": [
    {
     "name": "stdout",
     "output_type": "stream",
     "text": [
      "153\n",
      "153 is an Armstrong number\n"
     ]
    }
   ],
   "source": [
    "num = int(input())\n",
    "\n",
    "# Changed num variable to string, \n",
    "# and calculated the length (number of digits)\n",
    "order = len(str(num))\n",
    "\n",
    "# initialize sum\n",
    "sum = 0\n",
    "\n",
    "# find the sum of the cube of each digit\n",
    "temp = num\n",
    "while temp > 0:\n",
    "   digit = temp % 10\n",
    "   sum += digit ** order\n",
    "   temp //= 10\n",
    "\n",
    "# display the result\n",
    "if num == sum:\n",
    "   print(num,\"is an Armstrong number\")\n",
    "else:\n",
    "   print(num,\"is not an Armstrong number\")"
   ]
  }
 ],
 "metadata": {
  "kernelspec": {
   "display_name": "Python 3 (ipykernel)",
   "language": "python",
   "name": "python3"
  },
  "language_info": {
   "codemirror_mode": {
    "name": "ipython",
    "version": 3
   },
   "file_extension": ".py",
   "mimetype": "text/x-python",
   "name": "python",
   "nbconvert_exporter": "python",
   "pygments_lexer": "ipython3",
   "version": "3.9.2"
  }
 },
 "nbformat": 4,
 "nbformat_minor": 5
}

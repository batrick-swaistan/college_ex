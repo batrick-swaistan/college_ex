{
 "cells": [
  {
   "cell_type": "code",
   "execution_count": 33,
   "id": "aa09c0eb",
   "metadata": {},
   "outputs": [
    {
     "data": {
      "text/plain": [
       "True"
      ]
     },
     "execution_count": 33,
     "metadata": {},
     "output_type": "execute_result"
    }
   ],
   "source": [
    "def isPalindrome(n):\n",
    "        c=n\n",
    "        reverse=0\n",
    "        while c>0:\n",
    "            rem=c%10\n",
    "            reverse=rem+(reverse*10)\n",
    "            c//=10\n",
    "        if n==reverse:\n",
    "            return True\n",
    "        else:\n",
    "            return False\n",
    "        \n",
    "isPalindrome(121)\n",
    "        "
   ]
  },
  {
   "cell_type": "code",
   "execution_count": 27,
   "id": "059cec02",
   "metadata": {},
   "outputs": [
    {
     "data": {
      "text/plain": [
       "8"
      ]
     },
     "execution_count": 27,
     "metadata": {},
     "output_type": "execute_result"
    }
   ],
   "source": [
    "868%10"
   ]
  },
  {
   "cell_type": "code",
   "execution_count": 28,
   "id": "6ec6670c",
   "metadata": {},
   "outputs": [
    {
     "data": {
      "text/plain": [
       "8"
      ]
     },
     "execution_count": 28,
     "metadata": {},
     "output_type": "execute_result"
    }
   ],
   "source": [
    "8+(0*10)"
   ]
  },
  {
   "cell_type": "code",
   "execution_count": 29,
   "id": "e982d601",
   "metadata": {},
   "outputs": [
    {
     "data": {
      "text/plain": [
       "86"
      ]
     },
     "execution_count": 29,
     "metadata": {},
     "output_type": "execute_result"
    }
   ],
   "source": [
    "868//10"
   ]
  },
  {
   "cell_type": "code",
   "execution_count": 30,
   "id": "f4f59efe",
   "metadata": {},
   "outputs": [
    {
     "data": {
      "text/plain": [
       "6"
      ]
     },
     "execution_count": 30,
     "metadata": {},
     "output_type": "execute_result"
    }
   ],
   "source": [
    "86%10"
   ]
  },
  {
   "cell_type": "code",
   "execution_count": 25,
   "id": "e261ef5d",
   "metadata": {},
   "outputs": [
    {
     "data": {
      "text/plain": [
       "12"
      ]
     },
     "execution_count": 25,
     "metadata": {},
     "output_type": "execute_result"
    }
   ],
   "source": [
    "2+(1*10)"
   ]
  },
  {
   "cell_type": "code",
   "execution_count": 32,
   "id": "1c83e63b",
   "metadata": {},
   "outputs": [
    {
     "name": "stdout",
     "output_type": "stream",
     "text": [
      "979\n"
     ]
    }
   ],
   "source": [
    "num=979\n",
    "\n",
    "reverse=int(str(num)[::-1])\n",
    "\n",
    "print(reverse)"
   ]
  }
 ],
 "metadata": {
  "kernelspec": {
   "display_name": "Python 3 (ipykernel)",
   "language": "python",
   "name": "python3"
  },
  "language_info": {
   "codemirror_mode": {
    "name": "ipython",
    "version": 3
   },
   "file_extension": ".py",
   "mimetype": "text/x-python",
   "name": "python",
   "nbconvert_exporter": "python",
   "pygments_lexer": "ipython3",
   "version": "3.9.2"
  }
 },
 "nbformat": 4,
 "nbformat_minor": 5
}

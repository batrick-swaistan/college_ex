{
 "cells": [
  {
   "cell_type": "markdown",
   "id": "ba91c3f6",
   "metadata": {},
   "source": [
    "# Fibonacci Series"
   ]
  },
  {
   "cell_type": "markdown",
   "id": "6581c2e2",
   "metadata": {},
   "source": [
    "Using Recursion"
   ]
  },
  {
   "cell_type": "code",
   "execution_count": 6,
   "id": "56a90471",
   "metadata": {},
   "outputs": [
    {
     "name": "stdout",
     "output_type": "stream",
     "text": [
      "55\n"
     ]
    }
   ],
   "source": [
    "def fibo(n):\n",
    "    if n==0 or n==1:\n",
    "        return n\n",
    "    return fibo(n-1) + fibo(n-2)\n",
    "print(fibo(10))"
   ]
  },
  {
   "cell_type": "markdown",
   "id": "fe78b6a4",
   "metadata": {},
   "source": [
    "Without Recursion"
   ]
  },
  {
   "cell_type": "code",
   "execution_count": 10,
   "id": "43bae1d5",
   "metadata": {},
   "outputs": [
    {
     "name": "stdout",
     "output_type": "stream",
     "text": [
      "55\n"
     ]
    }
   ],
   "source": [
    "def fiboo(m):\n",
    "    a=0 \n",
    "    b=1\n",
    "    for i in range(1,m):\n",
    "        c=a+b\n",
    "        a=b\n",
    "        b=c\n",
    "    return b\n",
    "print(fiboo(10))"
   ]
  },
  {
   "cell_type": "code",
   "execution_count": null,
   "id": "c0d2e56c",
   "metadata": {},
   "outputs": [],
   "source": []
  }
 ],
 "metadata": {
  "kernelspec": {
   "display_name": "Python 3 (ipykernel)",
   "language": "python",
   "name": "python3"
  },
  "language_info": {
   "codemirror_mode": {
    "name": "ipython",
    "version": 3
   },
   "file_extension": ".py",
   "mimetype": "text/x-python",
   "name": "python",
   "nbconvert_exporter": "python",
   "pygments_lexer": "ipython3",
   "version": "3.9.2"
  }
 },
 "nbformat": 4,
 "nbformat_minor": 5
}
